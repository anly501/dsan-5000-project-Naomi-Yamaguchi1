{
 "cells": [
  {
   "attachments": {},
   "cell_type": "markdown",
   "metadata": {},
   "source": [
    "---\n",
    "title: \"About Me\"\n",
    "execute:\n",
    "  echo: false\n",
    "format:\n",
    "  html:\n",
    "    page-layout: full\n",
    "    code-tools: false\n",
    "---"
   ]
  },
  {
   "attachments": {},
   "cell_type": "markdown",
   "metadata": {},
   "source": [
    "Hello! My name is Naomi Yamaguchi, and I am currently a first-year graduate student in the Data Science and Analytics (DSAN) Master's program at Georgetown University.\n",
    "\n",
    "![This is me](photo.png){width=\"350\"}\n",
    "\n",
    "I grew up in Maryland and studied undergraduate at Salisbury University where I majored with a B.S in Statistics and minored with Data Science. During my undergraduate, I was selected to be part of research project with computer science department and gained real world skills from several internships. After graduation, I spent my summer as a revenue management analyst intern at Georgetown before returning to school to join the world of data science.\n",
    "\n",
    "Outside of school and work, my hobbies include adventure, workout, playing with my dogs, window shopping, attending concert/festival, and exploring the DC with my friends. Thanks for checking out my portfolio!\n",
    "\n",
    "<span style='color:Navy'> GU netID: ny159  </span>\n",
    "\n",
    "<span style='color:Navy'> LinkedIn: [ Click here for my LinkedIn](http://www.linkedin.com/in/naomi-yamaguchi/)  </span>\n"
   ]
  }
 ],
 "metadata": {
  "language_info": {
   "name": "python"
  },
  "orig_nbformat": 4
 },
 "nbformat": 4,
 "nbformat_minor": 2
}
