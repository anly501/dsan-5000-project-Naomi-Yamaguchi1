{
 "cells": [
  {
   "attachments": {},
   "cell_type": "markdown",
   "metadata": {},
   "source": [
    "---\n",
    "title: \"Decision Trees\"\n",
    "execute:\n",
    "  echo: false\n",
    "format:\n",
    "  html:\n",
    "    page-layout: full\n",
    "    code-tools: false\n",
    "---"
   ]
  },
  {
   "attachments": {},
   "cell_type": "markdown",
   "metadata": {},
   "source": [
    "## Classfication\n",
    "\n",
    "\n",
    "\n",
    "\n",
    "## Regression"
   ]
  }
 ],
 "metadata": {
  "language_info": {
   "name": "python"
  },
  "orig_nbformat": 4
 },
 "nbformat": 4,
 "nbformat_minor": 2
}
