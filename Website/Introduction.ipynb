{
 "cells": [
  {
   "attachments": {},
   "cell_type": "markdown",
   "metadata": {},
   "source": [
    "---\n",
    "title: \"Introduction\"\n",
    "execute:\n",
    "  echo: false\n",
    "format:\n",
    "  html:\n",
    "    page-layout: full\n",
    "    code-tools: false\n",
    "---"
   ]
  },
  {
   "attachments": {},
   "cell_type": "markdown",
   "metadata": {},
   "source": [
    "## ACA Health Insurance and Pharmaceutical Industry\n",
    "\n",
    "Why do we always hear people compare the United States and other countries health care system? Health insurance in the United States is always a problem governments and communities face. Compared to other countries, the U.S. does not have the flexibility and accessibility of the health care system for all citizens. Many Americans are paying out-of-pocket to access into medical system and some have no access. President Obama took this community challenge seriously and passed two laws to make a change in the healthcare system.\n",
    "\n",
    "The Affordable Care Act (ACA) is the name for the comprehensive health care reform law and its amendments which addresses health insurance coverage, health care costs, and preventive care, also known as Obama care. Two laws significantly affect American health insurance: The Patient Protection and Affordable Care Act. Both laws are passed by President Barack Obama on March 23, 2010, and were amended by the Health Care and Education Reconciliation Act on March 30, 2010.\n",
    "\n",
    "![ACA](./image/ACA.png){width=\"350\"}"
   ]
  },
  {
   "attachments": {},
   "cell_type": "markdown",
   "metadata": {},
   "source": [
    "The ACA didn't achieve its intended results as effectively as anticipated. As outlined by the [American Action Forum](https://www.americanactionforum.org/insight/understanding-the-policies-that-influence-the-cost-of-drugs/#:~:text=The%20ACA%20imposed%20a%20new,cost%20another%20%2411.1%20billion%20since.), the ACA led to a direct hike in expenses for drug producers by introducing a new tax tied to the revenue from a company's branded drug sales. While the overall prescription drug prices saw a reduction, the prices of branded prescription drugs experienced a rise. Between 2011 and 2015, this specific tax cost the pharmaceutical sector $14.1 billion. Additionally, the ACA extended Medicaid coverage to approximately 13 million Americans, mandated health insurance, and introduced new taxes on higher-income households to finance healthcare expenses, subsequently raising yearly premiums and out-of-pocket costs for numerous households.\n",
    "\n",
    "## Price Changes\n",
    "\n",
    "Medical expenses, when paid directly by patients, place a heavy burden on families with moderate to low incomes. Many individuals in the U.S. avoid medical care unless it's absolutely necessary due to these costs. These expenses aren't limited to medications; they encompass deductibles, co-pays, and any fees not covered by insurance. Often, co-pays can amount to $30-$50. Furthermore, medicines for rare diseases or unique health conditions have witnessed consistent price hikes annually. This results in reduced medication intake, putting many at risk of avoidable health complications or even death.\n",
    "\n",
    "Elevated prices for prescription drugs pose a financial strain for both patients and the health care system. [The Office of the Assistant Secretary for Planning and Evaluation](https://aspe.hhs.gov/sites/default/files/documents/e9d5bb190056eb94483b774b53d512b4/price-tracking-brief.pdf) (ASPE) carried out a study to understand the trend in drug prices over time. In 2022, a noticeable spike in the cost of numerous drugs was observed, with an average increase of about $150 (10%) in January and $250 (7.8%) in July. Some medications experienced a staggering rise in prices, exceeding $20,000 or an increase of over 500%. Moreover, from July 2021 to July 2022, 1,216 products had price surges beyond the 8.5% inflation rate, averaging a hike of 31.6%. Data indicates that the ACA might not have a direct impact on the broader economy, which is why there's an interest in examining its effects on the pharmaceutical sector and forecasting future prices.\n",
    "\n",
    "\n",
    "## Pharmaceutical Companies\n",
    "\n",
    "As the US populace grapples with escalating costs of prescription medications, including essential drugs, major pharma corporations such as Pfizer and Johnson & Johnson, recognized for their role in supplying Covid-19 vaccines, continue to witness soaring yearly profits. [The Center of American Progress](https://www.americanprogress.org/article/big-pharma-reaps-profits-hurting-everyday-americans/) (CAP) reports that these companies have hiked prices on their most-used drugs by a range of 40 to 71 percent between 2011 and 2015.\n",
    "\n",
    "In this project, I will employ techniques like data collection, data preprocessing, clustering, feature reduction, decision tree methods encompassing both classification and regression, and association rule mining (ARM) in Python to delve into the transformations within the pharmaceutical sector and shifts in Medicaid health coverage post ACA implementation."
   ]
  },
  {
   "attachments": {},
   "cell_type": "markdown",
   "metadata": {},
   "source": [
    "To explore the effect and impact by ACA across the nation, the following questions will be answered in this research. Each question will be addressed and answered with the backing of data throughout the project and in the conclusion with examples.\n",
    "\n",
    "## Questions to Explore"
   ]
  },
  {
   "attachments": {},
   "cell_type": "markdown",
   "metadata": {},
   "source": [
    "<div style=\"background-color: #f9f9f9; padding: 10px; border: 1px solid #ccc; border-radius: 5px;\">\n",
    "<b>1.</b> How did the ACA impact the pricing and accessibilities of prescription drugs in the United States?\n",
    "</div> \n",
    "\n",
    "<div style=\"background-color: #f9f9f9; padding: 10px; border: 1px solid #ccc; border-radius: 5px;\">\n",
    "<b>2.</b> Have there been any significant changes related to drug pricing and the pharmaceutical industry since the ACA was passed?\n",
    "</div> \n",
    "\n",
    "<div style=\"background-color: #f9f9f9; padding: 10px; border: 1px solid #ccc; border-radius: 5px;\">\n",
    "<b>3.</b> Has the pharmaceutical industry shown increasing profits since the ACA was established?\n",
    "</div> \n",
    "\n",
    "<div style=\"background-color: #f9f9f9; padding: 10px; border: 1px solid #ccc; border-radius: 5px;\">\n",
    "<b>4.</b> Are there certain times of the year in which Americans may experience heightened drug costs?\n",
    "</div> \n",
    "\n",
    "<div style=\"background-color: #f9f9f9; padding: 10px; border: 1px solid #ccc; border-radius: 5px;\">\n",
    "<b>5.</b> Does changes in pharmaceutical industry by ACA effect the death rate in the United States?\n",
    "</div> \n",
    "\n",
    "<div style=\"background-color: #f9f9f9; padding: 10px; border: 1px solid #ccc; border-radius: 5px;\">\n",
    "<b>6.</b> What kind of connection can be drawns between the increased profitability of the U.S. pharmaceutical industry and rising out-of-pocket prescription drug costs for consumers?\n",
    "</div> \n",
    "\n",
    "<div style=\"background-color: #f9f9f9; padding: 10px; border: 1px solid #ccc; border-radius: 5px;\">\n",
    "<b>7.</b> Can we predict the future prescription drug cost and out-of-pocket?\n",
    "</div> \n",
    "\n",
    "<div style=\"background-color: #f9f9f9; padding: 10px; border: 1px solid #ccc; border-radius: 5px;\">\n",
    "<b>8.</b> Did the ACA successfull strike a balance between expanding healcare coverage and addressing concerns about rising drug costs?\n",
    "</div> \n",
    "\n",
    "<div style=\"background-color: #f9f9f9; padding: 10px; border: 1px solid #ccc; border-radius: 5px;\">\n",
    "<b>9.</b> How does the ACA become controversial topic?\n",
    "</div> \n",
    "\n",
    "<div style=\"background-color: #f9f9f9; padding: 10px; border: 1px solid #ccc; border-radius: 5px;\">\n",
    "<b>10.</b> What lessons can be learned from the ACA's interaction with the pharmaceutical industry for future healthcare policy initiatives?\n",
    "</div> \n",
    "\n",
    "\n",
    "\n",
    "\n"
   ]
  }
 ],
 "metadata": {
  "kernelspec": {
   "display_name": "Python 3",
   "language": "python",
   "name": "python3"
  },
  "language_info": {
   "codemirror_mode": {
    "name": "ipython",
    "version": 3
   },
   "file_extension": ".py",
   "mimetype": "text/x-python",
   "name": "python",
   "nbconvert_exporter": "python",
   "pygments_lexer": "ipython3",
   "version": "3.10.13"
  },
  "orig_nbformat": 4
 },
 "nbformat": 4,
 "nbformat_minor": 2
}
