{
 "cells": [
  {
   "attachments": {},
   "cell_type": "markdown",
   "metadata": {},
   "source": [
    "---\n",
    "title: \"Data Gathering\"\n",
    "format:\n",
    "  html:\n",
    "    page-layout: full\n",
    "    code-fold: show\n",
    "    code-copy: true\n",
    "    code-tools: true\n",
    "    code-overflow: wrap\n",
    "---"
   ]
  },
  {
   "attachments": {},
   "cell_type": "markdown",
   "metadata": {},
   "source": [
    "# Data Sources for Project\n",
    "\n",
    "A number of different sources of data were gathered worldwide initially for this research. These include data from the Centers for Medicare & Medicaid(CMS), Centers for Disease Control and Precention(CDC), and Yahoo Finance for stocks prices. Kaggle data is also extract for comparison between ACA and prescription drug costs.\n",
    "\n",
    "## Centers for Medicare & Medicaid Services(CMS)\n",
    "\n",
    "[The Centers for Medicare & Medicaid Services](https://www.cms.gov/data-research/statistics-trends-and-reports/national-health-expenditure-data/projected) (CMS) operates under the U.S. Department of Health and Human Services and is responsible for managing key national healthcare initiatives. This includes the Medicare program, which offers health insurance to the elderly and certain disabled persons, and Medicaid, a joint state-federal initiative catering to specific low-income groups. Additionally, CMS supervises the Children's Health Insurance Program (CHIP) and has significant involvement in the health insurance platforms established by the Affordable Care Act. Furthermore, it ensures adherence to quality benchmarks in facilities offering long-term care and other medical services.\n",
    "\n",
    "The information on prescription drug expenses(out-of-pockets) was sourced from the National Health Expenditure Accounts maintained by the Centers for Medicare & Medicaid Services, which monitor diverse health expenditures in the U.S.\n",
    "\n",
    "[![Click logo to access the csv!](./image/CMS.png){width=\"450\"}](./row_data/NHE60-31.csv)"
   ]
  },
  {
   "attachments": {},
   "cell_type": "markdown",
   "metadata": {},
   "source": [
    "## Centers for Disease Control and Precention (CDC)\n",
    "\n",
    "[The Centers for Disease Control and Precention](https://gis.cdc.gov/GRASP/Fluview/FluHospRates.html) (CDC) operates as a key public health institution under the U.S. Department of Health and Human Services. Tasked with safeguarding public health, the CDC works diligently to manage and prevent illnesses, injuries, and impairments. It undertakes health studies, offers valuable health insights to inform decisions, and champions overall health and wellness. Additionally, it is pivotal in addressing health crises, such as disease outbreaks, and provides a broad spectrum of health recommendations.\n",
    "\n",
    "The U.S. flu statistics 2019-2023 information comes from the CDC's Regular Flu Monitoring Report that logs weekly figures for flu, pneumonia, and COVID-19 fatalities in the U.S. For this study, I concentrated on the weekly flu details, details of which will be elaborated on in subsequent sections.\n",
    "\n",
    "[![Click logo to access the csv!](./image/CDC.png){width=\"450\"}](./row_data/FluSurveillance_Custom_Download_Data%2012.51.34%20AM.csv)"
   ]
  },
  {
   "attachments": {},
   "cell_type": "markdown",
   "metadata": {},
   "source": [
    "## Yahoo Finance - ETF Stock\n",
    "\n",
    "[Yahoo Finance](https://finance.yahoo.com/quote/IHE/history?p=IHE) is an online resource delivering a broad range of financial tools, updates, and information to its users and investors. It supplies up-to-the-minute stock values, fiscal updates, market reviews, and a collection of tools for investment. Managed by Yahoo!, this platform is a central hub for both casual investors and finance experts seeking market data, analytical tools, and insights on investments.\n",
    "\n",
    "The information of ETF for Major U.S. Pharma Firms' Stock was sourced from Yahoo Finance, detailing the stock value of the iShares U.S. Pharmaceuticals ETF, commonly known as IHE. This ETF mirrors the market behavior of the prominent U.S. drug manufacturing entities.\n",
    "\n",
    "[![Click logo to access the csv!](./image/finance.png){width=\"450\"}](./row_data/IHE.csv)"
   ]
  },
  {
   "attachments": {},
   "cell_type": "markdown",
   "metadata": {},
   "source": [
    "\n",
    "## Kaggle - ACA by States\n",
    "\n",
    "[Kaggle](https://www.kaggle.com/datasets/hhs/health-insurance?datasetId=905&language=R), under Google's umbrella, serves as a hub for data science aficionados and those passionate about machine learning. It grants access to diverse datasets for in-depth examination and insights. \n",
    "\n",
    "Keep in mind that Kaggle may not be the ideal platform for in-depth research project analyses. We utilize its data merely for comparison purposes and refrain from conducting extended evaluations with the dataset. We've sourced a dataset from Kaggle that details health insurance rates by state for the years 2010-2013 under the ACA.\n",
    "\n",
    "[![Click logo to access the csv!](./image/ACA2.png){width=\"450\"}](./row_data/states.csv)\n"
   ]
  }
 ],
 "metadata": {
  "language_info": {
   "name": "python"
  },
  "orig_nbformat": 4
 },
 "nbformat": 4,
 "nbformat_minor": 2
}
