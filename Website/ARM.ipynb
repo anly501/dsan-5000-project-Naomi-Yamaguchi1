{
 "cells": [
  {
   "attachments": {},
   "cell_type": "markdown",
   "metadata": {},
   "source": [
    "---\n",
    "title: \"ARM\"\n",
    "format:\n",
    "  html:\n",
    "    page-layout: full\n",
    "    code-fold: show\n",
    "    code-copy: true\n",
    "    code-tools: true\n",
    "    code-overflow: wrap\n",
    "---"
   ]
  },
  {
   "attachments": {},
   "cell_type": "markdown",
   "metadata": {},
   "source": [
    "## ARM - Extra Website - Coming Soon"
   ]
  }
 ],
 "metadata": {
  "language_info": {
   "name": "python"
  },
  "orig_nbformat": 4
 },
 "nbformat": 4,
 "nbformat_minor": 2
}
