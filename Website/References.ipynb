{
 "cells": [
  {
   "attachments": {},
   "cell_type": "markdown",
   "metadata": {},
   "source": [
    "---\n",
    "title: \"References\"\n",
    "execute:\n",
    "  echo: false\n",
    "format:\n",
    "  html:\n",
    "    page-layout: full\n",
    "    code-tools: false\n",
    "---"
   ]
  },
  {
   "attachments": {},
   "cell_type": "markdown",
   "metadata": {},
   "source": [
    "## Article References:\n",
    "https://www.americanprogress.org/article/big-pharma-reaps-profits-hurting-everyday-americans/\n",
    "\n",
    "https://www.proclinical.com/blogs/2023-7/the-top-10-pharmaceutical-companies-in-the-world-2023\n"
   ]
  },
  {
   "attachments": {},
   "cell_type": "markdown",
   "metadata": {},
   "source": [
    "## Data References:\n",
    "\n",
    "https://gis.cdc.gov/GRASP/Fluview/FluHospRates.html\n",
    "\n",
    "https://finance.yahoo.com/quote/IHE/history?p=IHE\n",
    "\n",
    "https://www.cms.gov/data-research/statistics-trends-and-reports/national-health-expenditure-data/projected"
   ]
  }
 ],
 "metadata": {
  "language_info": {
   "name": "python"
  },
  "orig_nbformat": 4
 },
 "nbformat": 4,
 "nbformat_minor": 2
}
