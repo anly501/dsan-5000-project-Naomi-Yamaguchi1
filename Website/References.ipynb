{
 "cells": [
  {
   "attachments": {},
   "cell_type": "markdown",
   "metadata": {},
   "source": [
    "---\n",
    "title: \"References\"\n",
    "execute:\n",
    "  echo: false\n",
    "format:\n",
    "  html:\n",
    "    page-layout: full\n",
    "    code-tools: false\n",
    "---"
   ]
  },
  {
   "attachments": {},
   "cell_type": "markdown",
   "metadata": {},
   "source": [
    "## Article References:\n",
    "[Pharmacy Profit](https://www.americanprogress.org/article/big-pharma-reaps-profits-hurting-everyday-americans/)\n",
    "\n",
    "[Pharmaceutical Companies](https://www.proclinical.com/blogs/2023-7/the-top-10-pharmaceutical-companies-in-the-world-2023)\n"
   ]
  },
  {
   "attachments": {},
   "cell_type": "markdown",
   "metadata": {},
   "source": [
    "## Data References:\n",
    "\n",
    "[Centers for Disease Control and Precention](https://gis.cdc.gov/GRASP/Fluview/FluHospRates.html)\n",
    "\n",
    "[ETF Stock](https://finance.yahoo.com/quote/IHE/history?p=IHE)\n",
    "\n",
    "[Centers for Medicare & Medicaid Services](https://www.cms.gov/data-research/statistics-trends-and-reports/national-health-expenditure-data/projected)\n",
    "\n",
    "[Affordable Care Act](https://www.kaggle.com/datasets/hhs/health-insurance?datasetId=905&language=R)"
   ]
  }
 ],
 "metadata": {
  "language_info": {
   "name": "python"
  },
  "orig_nbformat": 4
 },
 "nbformat": 4,
 "nbformat_minor": 2
}
