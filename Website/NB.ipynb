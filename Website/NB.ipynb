{
 "cells": [
  {
   "attachments": {},
   "cell_type": "markdown",
   "metadata": {},
   "source": [
    "---\n",
    "title: \"Naïve Bayes\"\n",
    "format:\n",
    "  html:\n",
    "    page-layout: full\n",
    "    code-fold: show\n",
    "    code-copy: true\n",
    "    code-tools: true\n",
    "    code-overflow: wrap\n",
    "---"
   ]
  },
  {
   "attachments": {},
   "cell_type": "markdown",
   "metadata": {},
   "source": [
    "# Introduction to Naïve Bayes\n",
    "\n",
    "In this section, we are going to explore Naïve Bayes (NB)\n",
    "\n",
    "## Overview & Objective\n",
    "Naïve Bayes is a probabilistic classification method rooted in applying Bayes' theorem, with an emphasis on the \"naïve\" assumption of independence between features. This means that for the purpose of classification, each feature contributes independently to the probability of a particular class, regardless of the values of other features.\n",
    "\n",
    "## Probabilistic Nature and Bayes' Theorem\n",
    "\n",
    "Naïve Bayes estimates the posterior probability of a class given a set of features using Bayes' theorem. Let's denote $x$ as feature and $C_k$ as class. Formula can be written as: $$P(C_k|x) = \\frac{P(x|C_k) \\cdot P(C_k)}{P(x)}$$ Where: \n",
    "\n",
    "- $P(C_k|x)$ is the posterior probability of class $C_k$ given features x.\n",
    "\n",
    "- $P(x|C_k)$ is the likelihood which the probability of features x given class $C_k$.\n",
    "\n",
    "- $P(C_k)$ is the prior probability of class $C_k$.\n",
    "\n",
    "- $P(x)$ is the prior probability of features x.\n",
    "\n",
    "**Note:** $P(x)$ is constant for all classes, it's often omitted in practice, and the classification becomes about finding the class \n",
    "$C_k$ that maximizes the numerator.\n",
    "\n",
    "## Objectives & Aim\n",
    "\n",
    "The primary objective of Naive Bayes classification is to determine the most probable class for a given instance based on its features. By leveraging the power of probability and statistics, the algorithm aims to provide an accurate and computationally efficient classification mechanism.\n",
    "\n",
    "By using Naïve Bayes classification, we want to:\n",
    "\n",
    "-Predict the class of an instance based on its features with a high level of accuracy.\n",
    "\n",
    "-Offer a simple yet effective model, especially for datasets with many features or large datasets where other algorithms might be computationally intensive.\n",
    "\n",
    "-Handle both continuous and discrete data through its various variants.\n",
    "\n",
    "## Variants of Naïve Bayes:\n",
    "\n",
    "**Gaussian Naïve Bayes:**\n",
    "\n",
    "-Used when features are continuous and follow a Gaussian or normal distribution.\n",
    "\n",
    "-It assumes that the values associated with each class are distributed according to a Gaussian distribution.\n",
    "\n",
    "-Choose Gaussian when dealing with continuous data that's normally distributed.\n",
    "\n",
    "**Multinomial Naïve Bayes:**\n",
    "\n",
    "-Appropriate for discrete counts.\n",
    "\n",
    "-Often used for text classification where the features are the frequency of words (or n-grams) in documents.\n",
    "\n",
    "-Choose Multinomial when working with discrete data, especially in applications like text analytics where you're counting word occurrences.\n",
    "\n",
    "**Bernoulli Naïve Bayes:**\n",
    "\n",
    "-Works with binary/boolean features.\n",
    "\n",
    "-Useful in text classification tasks where features represent the presence or absence of a word.\n",
    "\n",
    "-Choose Bernoulli for binary data, or when modeling binary features in datasets, such as \"word exists or not\" in text classification.\n",
    "\n",
    "\n",
    "In conclusion, Naïve Bayes is a versatile and probabilistic classification method offering simplicity and efficiency, especially in high-dimensional datasets. It's paramount to select the appropriate variant based on the nature of your data to ensure optimal results."
   ]
  },
  {
   "attachments": {},
   "cell_type": "markdown",
   "metadata": {},
   "source": [
    "In this segment, we will be applying the Naive Bayes algorithm to both labeled records and textual data. Analogous to our work in Exploratory Data Analysis (EDA), we will utilize the IHE stock market dataset for the labeled records. For the textual data, we will extract information from the NewsAPI, which we interacted with in a prior lab session. Detailed descriptions and characteristics of these datasets can be found under the 'Small Data' and 'Large Data' tabs, respectively."
   ]
  },
  {
   "attachments": {},
   "cell_type": "markdown",
   "metadata": {},
   "source": [
    "# Record Data - IHE Stock Market\n",
    "\n",
    "To enhance the preparation of record data for the Naive Bayes algorithm, we should begin by partitioning our dataset into training and testing subsets. This critical step not only facilitates a more robust training process but also sets the stage for subsequent model validation. Engaging in model validation is imperative as it provides a clear and empirical basis to assess the performance of our model, drawing insights from the results of our analysis to ensure accuracy and reliability in its predictive capabilities. By adopting this meticulous approach, we pave the way for a more effective and reliable implementation of the Naive Bayes algorithm. Record data are using R code for analysis. "
   ]
  },
  {
   "cell_type": "code",
   "execution_count": 7,
   "metadata": {
    "vscode": {
     "languageId": "r"
    }
   },
   "outputs": [],
   "source": [
    "library(tidyverse)\n",
    "library(tidyquant)\n",
    "library(ggplot2)\n",
    "library(forecast)\n",
    "library(astsa) \n",
    "library(xts)\n",
    "library(tseries)\n",
    "library(lubridate)\n",
    "library(plotly)\n",
    "library(dplyr)\n",
    "\n",
    "#load df\n",
    "ihe_df <- read.csv(\"cleaned_data/IHE.csv\")"
   ]
  },
  {
   "cell_type": "code",
   "execution_count": 8,
   "metadata": {
    "vscode": {
     "languageId": "r"
    }
   },
   "outputs": [],
   "source": [
    "ihe_df$Date = as.Date(ihe_df$Date)\n",
    "\n",
    "ihe.ts = subset(ihe_df, select = Adj.Close)\n",
    "\n",
    "ihe.ts = ts(ihe.ts, start=c(2019,1),frequency = 365.25) #per day for stock market price\n",
    "\n",
    "ihe.diff = diff(ihe.ts)"
   ]
  },
  {
   "cell_type": "code",
   "execution_count": 17,
   "metadata": {
    "vscode": {
     "languageId": "r"
    }
   },
   "outputs": [
    {
     "data": {
      "text/plain": [
       "Series: train \n",
       "ARIMA(3,0,3) with zero mean \n",
       "\n",
       "Coefficients:\n",
       "          ar1     ar2     ar3     ma1      ma2      ma3\n",
       "      -0.7611  0.8261  0.8285  0.6540  -0.8722  -0.7183\n",
       "s.e.   0.0526  0.0384  0.0504  0.0638   0.0333   0.0633\n",
       "\n",
       "sigma^2 = 3.743:  log likelihood = -1658.24\n",
       "AIC=3330.48   AICc=3330.62   BIC=3363.26\n",
       "\n",
       "Training set error measures:\n",
       "                    ME     RMSE      MAE MPE MAPE      MASE       ACF1\n",
       "Training set 0.1068385 1.927508 1.443424 Inf  Inf 0.6684412 0.02125072"
      ]
     },
     "metadata": {},
     "output_type": "display_data"
    }
   ],
   "source": [
    "train <- ts(ihe.diff[1:799])\n",
    "test <- ts(ihe.diff[800:1005])\n",
    "\n",
    "fit = auto.arima(train, seasonal = FALSE)\n",
    "summary(fit)"
   ]
  },
  {
   "attachments": {},
   "cell_type": "markdown",
   "metadata": {},
   "source": [
    "With the data now suitably prepped and partitioned, we are all set to implement the Naive Bayes algorithm. For an in-depth look at the calculations and the selection process of features specifically for record data, refer to the tab labeled \"Feature Selection for Record Data\". This section provides a comprehensive breakdown of the methodology, elucidating how each feature is evaluated and chosen based on its statistical relevance and impact on the model’s performance by using time series techniques."
   ]
  },
  {
   "attachments": {},
   "cell_type": "markdown",
   "metadata": {},
   "source": [
    "# Text Data - News API\n",
    "\n",
    "Leveraging NewsAPI, we are able to efficiently fetch textual data pertinent to our project's focus. In this instance, I utilized \"medical cost USA\" as a search keyword to curate the relevant dataset. Following this, akin to handling record data, our next steps involve partitioning this textual information into training and testing sets. This is a crucial step in our data preparation process for the Naive Bayes classifier. Post-segmentation, we proceed to transform the text data into a vectorized format, suitable for model ingestion. Having prepared our data, we then train the Naive Bayes model, ensuring to evaluate its performance rigorously to guarantee its predictive reliability. Finally, with confidence in our model's capabilities, we deploy it to make predictions on new, unseen data, showcasing its practical applicability and robustness."
   ]
  },
  {
   "cell_type": "code",
   "execution_count": 3,
   "metadata": {
    "vscode": {
     "languageId": "r"
    }
   },
   "outputs": [
    {
     "data": {
      "text/html": [
       "<table class=\"dataframe\">\n",
       "<caption>A data.frame: 6 × 2</caption>\n",
       "<thead>\n",
       "\t<tr><th></th><th scope=col>title</th><th scope=col>description</th></tr>\n",
       "\t<tr><th></th><th scope=col>&lt;chr&gt;</th><th scope=col>&lt;chr&gt;</th></tr>\n",
       "</thead>\n",
       "<tbody>\n",
       "\t<tr><th scope=row>1</th><td>a round-up of the talks from gaconf usa 2023                                       </td><td>gaconf returned to the us this week with a series of accessibility talks hosted at the archer hotel in redmond, washington virtual attendance was available through zoom and youtube talks ranged from those on personal experiences of disability and accessibil…</td></tr>\n",
       "\t<tr><th scope=row>2</th><td>american can prevent (and control) type 2 diabetes so why arent we doing it?       </td><td>usa today's health team spoke with scores of experts to understand why, despite solutions, more americans continue to struggle with type 2 diabetes                                                                                                               </td></tr>\n",
       "\t<tr><th scope=row>3</th><td>the steep cost of type 2: when diabetes dragged her down, she chose to fight       </td><td>the nation's disjointed and confusing health care system leaves many type 2 diabetes patients to navigate it with little support                                                                                                                                  </td></tr>\n",
       "\t<tr><th scope=row>4</th><td>a hidden system of exploitation underpins us hospitals employment of foreign nurses</td><td>this series was produced in partnership with the nonprofit newsroom type investigations, with support from the gertrude blumenthal kasbekar fund, the puffin foundation, and the pulitzer centerread more                                                         </td></tr>\n",
       "\t<tr><th scope=row>5</th><td>the childcare cliff: $122 billion dollar crisis, but whose problem is it?          </td><td>the childcare crisis in america; the harsh truth of systemic inequality, peculiar economics and lack of support for a industry at the backbone of the economy                                                                                                     </td></tr>\n",
       "\t<tr><th scope=row>6</th><td>‘mad men meets medicine - #metoo hits the uks national health service              </td><td>new report reveals one in three female surgeons in the uk suffer sexual harassment women start to organise - at a women in medicine conference                                                                                                                    </td></tr>\n",
       "</tbody>\n",
       "</table>\n"
      ],
      "text/latex": [
       "A data.frame: 6 × 2\n",
       "\\begin{tabular}{r|ll}\n",
       "  & title & description\\\\\n",
       "  & <chr> & <chr>\\\\\n",
       "\\hline\n",
       "\t1 & a round-up of the talks from gaconf usa 2023                                        & gaconf returned to the us this week with a series of accessibility talks hosted at the archer hotel in redmond, washington virtual attendance was available through zoom and youtube talks ranged from those on personal experiences of disability and accessibil…\\\\\n",
       "\t2 & american can prevent (and control) type 2 diabetes so why arent we doing it?        & usa today's health team spoke with scores of experts to understand why, despite solutions, more americans continue to struggle with type 2 diabetes                                                                                                               \\\\\n",
       "\t3 & the steep cost of type 2: when diabetes dragged her down, she chose to fight        & the nation's disjointed and confusing health care system leaves many type 2 diabetes patients to navigate it with little support                                                                                                                                  \\\\\n",
       "\t4 & a hidden system of exploitation underpins us hospitals employment of foreign nurses & this series was produced in partnership with the nonprofit newsroom type investigations, with support from the gertrude blumenthal kasbekar fund, the puffin foundation, and the pulitzer centerread more                                                         \\\\\n",
       "\t5 & the childcare cliff: \\$122 billion dollar crisis, but whose problem is it?           & the childcare crisis in america; the harsh truth of systemic inequality, peculiar economics and lack of support for a industry at the backbone of the economy                                                                                                     \\\\\n",
       "\t6 & ‘mad men meets medicine - \\#metoo hits the uks national health service               & new report reveals one in three female surgeons in the uk suffer sexual harassment women start to organise - at a women in medicine conference                                                                                                                    \\\\\n",
       "\\end{tabular}\n"
      ],
      "text/markdown": [
       "\n",
       "A data.frame: 6 × 2\n",
       "\n",
       "| <!--/--> | title &lt;chr&gt; | description &lt;chr&gt; |\n",
       "|---|---|---|\n",
       "| 1 | a round-up of the talks from gaconf usa 2023                                        | gaconf returned to the us this week with a series of accessibility talks hosted at the archer hotel in redmond, washington virtual attendance was available through zoom and youtube talks ranged from those on personal experiences of disability and accessibil… |\n",
       "| 2 | american can prevent (and control) type 2 diabetes so why arent we doing it?        | usa today's health team spoke with scores of experts to understand why, despite solutions, more americans continue to struggle with type 2 diabetes                                                                                                                |\n",
       "| 3 | the steep cost of type 2: when diabetes dragged her down, she chose to fight        | the nation's disjointed and confusing health care system leaves many type 2 diabetes patients to navigate it with little support                                                                                                                                   |\n",
       "| 4 | a hidden system of exploitation underpins us hospitals employment of foreign nurses | this series was produced in partnership with the nonprofit newsroom type investigations, with support from the gertrude blumenthal kasbekar fund, the puffin foundation, and the pulitzer centerread more                                                          |\n",
       "| 5 | the childcare cliff: $122 billion dollar crisis, but whose problem is it?           | the childcare crisis in america; the harsh truth of systemic inequality, peculiar economics and lack of support for a industry at the backbone of the economy                                                                                                      |\n",
       "| 6 | ‘mad men meets medicine - #metoo hits the uks national health service               | new report reveals one in three female surgeons in the uk suffer sexual harassment women start to organise - at a women in medicine conference                                                                                                                     |\n",
       "\n"
      ],
      "text/plain": [
       "  title                                                                              \n",
       "1 a round-up of the talks from gaconf usa 2023                                       \n",
       "2 american can prevent (and control) type 2 diabetes so why arent we doing it?       \n",
       "3 the steep cost of type 2: when diabetes dragged her down, she chose to fight       \n",
       "4 a hidden system of exploitation underpins us hospitals employment of foreign nurses\n",
       "5 the childcare cliff: $122 billion dollar crisis, but whose problem is it?          \n",
       "6 ‘mad men meets medicine - #metoo hits the uks national health service              \n",
       "  description                                                                                                                                                                                                                                                       \n",
       "1 gaconf returned to the us this week with a series of accessibility talks hosted at the archer hotel in redmond, washington virtual attendance was available through zoom and youtube talks ranged from those on personal experiences of disability and accessibil…\n",
       "2 usa today's health team spoke with scores of experts to understand why, despite solutions, more americans continue to struggle with type 2 diabetes                                                                                                               \n",
       "3 the nation's disjointed and confusing health care system leaves many type 2 diabetes patients to navigate it with little support                                                                                                                                  \n",
       "4 this series was produced in partnership with the nonprofit newsroom type investigations, with support from the gertrude blumenthal kasbekar fund, the puffin foundation, and the pulitzer centerread more                                                         \n",
       "5 the childcare crisis in america; the harsh truth of systemic inequality, peculiar economics and lack of support for a industry at the backbone of the economy                                                                                                     \n",
       "6 new report reveals one in three female surgeons in the uk suffer sexual harassment women start to organise - at a women in medicine conference                                                                                                                    "
      ]
     },
     "metadata": {},
     "output_type": "display_data"
    },
    {
     "data": {
      "text/plain": [
       "    title           description       \n",
       " Length:100         Length:100        \n",
       " Class :character   Class :character  \n",
       " Mode  :character   Mode  :character  "
      ]
     },
     "metadata": {},
     "output_type": "display_data"
    }
   ],
   "source": [
    "text_df <- read.csv(\"cleaned_data/medicine-cleaned.csv\")\n",
    "\n",
    "head(text_df)\n",
    "\n",
    "summary(text_df)"
   ]
  },
  {
   "attachments": {},
   "cell_type": "markdown",
   "metadata": {},
   "source": [
    "Examining the text dataset reveals a lack of numerical variables, necessitating a tailored approach for splitting it into training and testing sets. We aim for a 75-25 split, dedicating 75% to training and the remaining 25% to testing. Given that our dataset comprises text data and is not sequential like time series data, Python stands out as an apt choice for this task but kernel does not like to mix with R, so for a detailed guide on how to prepare and select features from text data, please refer to the tab labeled \"Feature Selection for Text Data,\" where comprehensive steps and practices are outlined to optimize your text data for machine learning models."
   ]
  }
 ],
 "metadata": {
  "kernelspec": {
   "display_name": "R",
   "language": "R",
   "name": "ir"
  },
  "language_info": {
   "codemirror_mode": "r",
   "file_extension": ".r",
   "mimetype": "text/x-r-source",
   "name": "R",
   "pygments_lexer": "r",
   "version": "4.2.1"
  },
  "orig_nbformat": 4
 },
 "nbformat": 4,
 "nbformat_minor": 2
}
