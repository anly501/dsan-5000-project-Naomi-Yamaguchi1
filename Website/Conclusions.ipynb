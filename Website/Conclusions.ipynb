{
 "cells": [
  {
   "attachments": {},
   "cell_type": "markdown",
   "metadata": {},
   "source": [
    "---\n",
    "title: \"Conclusions\"\n",
    "execute:\n",
    "  echo: false\n",
    "format:\n",
    "  html:\n",
    "    page-layout: full\n",
    "    code-tools: false\n",
    "---"
   ]
  },
  {
   "attachments": {},
   "cell_type": "markdown",
   "metadata": {},
   "source": [
    "## Visualization Summary\n",
    "\n",
    "In our project, we conducted extensive research on the impact of the Affordable Care Act (ACA) and its effects on out-of-pocket drug costs in the U.S. This brief summary highlights our key findings from visualizations, exploratory data analysis (EDA), clustering/decision tree methodologies, and dimensionality reduction techniques.\n",
    "\n",
    "**Explonatory Data Analysis (EDA)**\n",
    "\n",
    "During the EDA phase, we developed a new state vector ordered according to the Uninsured Rate Change, enhancing our plotting efficiency. We utilized a blue line to represent the average change across all states. This line shows the states with the least change at the top and those with the most change at the bottom. Notably, states with larger populations exhibited more pronounced changes. We also summarized Medicaid expansion, represented by each state's average Medicaid enrollment change. Our bar graph revealed that California experienced the most significant expansion in Medicaid program coverage, followed closely by New York and Washington.\n",
    "\n",
    "<img src=\"image/eda.png\" width=\"500\" height=\"600\"/>"
   ]
  },
  {
   "attachments": {},
   "cell_type": "markdown",
   "metadata": {},
   "source": [
    "**Clustering/Decision Tree**\n",
    "\n",
    "In our clustering and decision tree analysis, we employed a dendrogram, which offers a versatile approach to determine the number of clusters through the placement of a horizontal 'cut'. For example, a cut at the highest vertical line, correlating with a Euclidean distance of approximately 20, divides the data into two broad clusters. In contrast, a lower cut at a Euclidean distance of around 5 results in a more granular division into several smaller clusters. This method allowed us to observe and analyze the data at various levels of aggregation, providing insightful clustering based on the selected parameters.\n",
    "\n",
    "<img src=\"image/tree.png\" width=\"500\" height=\"600\"/>"
   ]
  },
  {
   "attachments": {},
   "cell_type": "markdown",
   "metadata": {},
   "source": [
    "**Dimentionality Reduction**\n",
    "\n",
    "In our t-Distributed Stochastic Neighbor Embedding (t-SNE) dimensionality reduction analysis, we delved into the Affordable Care Act's (ACA) effects on uninsured rates, employing scatter plots at various perplexity levels to uncover diverse insights. At a perplexity of 5, the visualization highlighted distinct regions or states, with a pronounced gap hinting at a substantial divergence in uninsured rates, reflecting potential local impacts of the ACA. Increasing the perplexity to 10 balanced the focus between local differences and broader trends, suggesting nuanced effects of the ACA across subgroups. At a perplexity of 30, the landscape appeared more uniform, indicating a homogenization of uninsured rates across regions when viewed from a wider perspective. This analysis demonstrates the ACA’s varied impact, with higher perplexity levels suggesting a general leveling of uninsured rates, while lower levels uncover notable local disparities, emphasizing the need for scale-sensitive analysis in assessing healthcare policy effects.\n",
    "\n",
    "<img src=\"image/dm.png\" width=\"700\" height=\"400\"/>"
   ]
  },
  {
   "attachments": {},
   "cell_type": "markdown",
   "metadata": {},
   "source": [
    "## Takeaway\n",
    "\n",
    "Our project's comprehensive analysis of the Affordable Care Act (ACA) has yielded significant insights into its impact on out-of-pocket drug costs and uninsured rates in the U.S. Through meticulous exploratory data analysis (EDA), clustering, decision tree methodologies, and t-SNE dimensionality reduction techniques, we've unraveled the multifaceted effects of the ACA at both local and national levels.\n",
    "\n",
    "Our EDA revealed that states with larger populations experienced more pronounced changes in uninsured rates, and states like California, New York, and Washington showed substantial expansions in Medicaid coverage. The clustering and decision tree analysis, facilitated by a dendrogram, allowed for a nuanced understanding of data clusters at different scales, revealing the ACA's varied impacts across different regions and population groups. Most notably, our t-SNE analysis painted a comprehensive picture of the ACA's influence. At lower perplexity levels, we observed significant disparities in uninsured rates among different states, suggesting localized impacts of the policy. However, at higher perplexity levels, a pattern of uniformity emerged, indicating a general leveling effect of the ACA on uninsured rates across the nation.\n",
    "\n",
    "This multifaceted analysis underscores the ACA's complex nature and its differential impact across the U.S. It highlights that while the ACA has led to a more homogenized healthcare landscape in some respects, it has also accentuated local disparities in others. Such insights are crucial for policymakers and healthcare stakeholders aiming to refine and implement more targeted healthcare reforms in the future."
   ]
  }
 ],
 "metadata": {
  "language_info": {
   "name": "python"
  },
  "orig_nbformat": 4
 },
 "nbformat": 4,
 "nbformat_minor": 2
}
