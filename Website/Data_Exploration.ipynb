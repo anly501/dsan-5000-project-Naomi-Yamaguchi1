{
 "cells": [
  {
   "attachments": {},
   "cell_type": "markdown",
   "metadata": {},
   "source": [
    "---\n",
    "title: \"Data Exploration\"\n",
    "execute:\n",
    "  echo: false\n",
    "format:\n",
    "  html:\n",
    "    page-layout: full\n",
    "    code-tools: false\n",
    "---"
   ]
  },
  {
   "attachments": {},
   "cell_type": "markdown",
   "metadata": {},
   "source": [
    "## Data Exploration"
   ]
  }
 ],
 "metadata": {
  "language_info": {
   "name": "python"
  },
  "orig_nbformat": 4
 },
 "nbformat": 4,
 "nbformat_minor": 2
}
